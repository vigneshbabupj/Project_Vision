{
  "nbformat": 4,
  "nbformat_minor": 0,
  "metadata": {
    "accelerator": "GPU",
    "colab": {
      "name": "Project_vision_Training_Part1.ipynb",
      "provenance": [],
      "collapsed_sections": []
    },
    "kernelspec": {
      "display_name": "Python 3",
      "name": "python3"
    },
    "widgets": {
      "application/vnd.jupyter.widget-state+json": {
        "568526b942c24ddb8ad2972c578a8b24": {
          "model_module": "@jupyter-widgets/controls",
          "model_name": "HBoxModel",
          "state": {
            "_view_name": "HBoxView",
            "_dom_classes": [],
            "_model_name": "HBoxModel",
            "_view_module": "@jupyter-widgets/controls",
            "_model_module_version": "1.5.0",
            "_view_count": null,
            "_view_module_version": "1.5.0",
            "box_style": "",
            "layout": "IPY_MODEL_f8bebcad457a4d5caa6c73193ff63411",
            "_model_module": "@jupyter-widgets/controls",
            "children": [
              "IPY_MODEL_e7377d5fe8634e5aa81ebefedd0d79f1",
              "IPY_MODEL_92a44cf3e14e4870bb783b58015e154a"
            ]
          }
        },
        "f8bebcad457a4d5caa6c73193ff63411": {
          "model_module": "@jupyter-widgets/base",
          "model_name": "LayoutModel",
          "state": {
            "_view_name": "LayoutView",
            "grid_template_rows": null,
            "right": null,
            "justify_content": null,
            "_view_module": "@jupyter-widgets/base",
            "overflow": null,
            "_model_module_version": "1.2.0",
            "_view_count": null,
            "flex_flow": null,
            "width": null,
            "min_width": null,
            "border": null,
            "align_items": null,
            "bottom": null,
            "_model_module": "@jupyter-widgets/base",
            "top": null,
            "grid_column": null,
            "overflow_y": null,
            "overflow_x": null,
            "grid_auto_flow": null,
            "grid_area": null,
            "grid_template_columns": null,
            "flex": null,
            "_model_name": "LayoutModel",
            "justify_items": null,
            "grid_row": null,
            "max_height": null,
            "align_content": null,
            "visibility": null,
            "align_self": null,
            "height": null,
            "min_height": null,
            "padding": null,
            "grid_auto_rows": null,
            "grid_gap": null,
            "max_width": null,
            "order": null,
            "_view_module_version": "1.2.0",
            "grid_template_areas": null,
            "object_position": null,
            "object_fit": null,
            "grid_auto_columns": null,
            "margin": null,
            "display": null,
            "left": null
          }
        },
        "e7377d5fe8634e5aa81ebefedd0d79f1": {
          "model_module": "@jupyter-widgets/controls",
          "model_name": "FloatProgressModel",
          "state": {
            "_view_name": "ProgressView",
            "style": "IPY_MODEL_89ea659dd2554e439008f0a8051b09cd",
            "_dom_classes": [],
            "description": "100%",
            "_model_name": "FloatProgressModel",
            "bar_style": "success",
            "max": 356056638,
            "_view_module": "@jupyter-widgets/controls",
            "_model_module_version": "1.5.0",
            "value": 356056638,
            "_view_count": null,
            "_view_module_version": "1.5.0",
            "orientation": "horizontal",
            "min": 0,
            "description_tooltip": null,
            "_model_module": "@jupyter-widgets/controls",
            "layout": "IPY_MODEL_83bf8860478841c1abfeea9d4ff1ecc0"
          }
        },
        "92a44cf3e14e4870bb783b58015e154a": {
          "model_module": "@jupyter-widgets/controls",
          "model_name": "HTMLModel",
          "state": {
            "_view_name": "HTMLView",
            "style": "IPY_MODEL_33206ba3d6b84d16984ac9a0359e7d92",
            "_dom_classes": [],
            "description": "",
            "_model_name": "HTMLModel",
            "placeholder": "​",
            "_view_module": "@jupyter-widgets/controls",
            "_model_module_version": "1.5.0",
            "value": " 340M/340M [00:12&lt;00:00, 28.3MB/s]",
            "_view_count": null,
            "_view_module_version": "1.5.0",
            "description_tooltip": null,
            "_model_module": "@jupyter-widgets/controls",
            "layout": "IPY_MODEL_2d4e79c76e5444248ee49d569f61c4ae"
          }
        },
        "89ea659dd2554e439008f0a8051b09cd": {
          "model_module": "@jupyter-widgets/controls",
          "model_name": "ProgressStyleModel",
          "state": {
            "_view_name": "StyleView",
            "_model_name": "ProgressStyleModel",
            "description_width": "initial",
            "_view_module": "@jupyter-widgets/base",
            "_model_module_version": "1.5.0",
            "_view_count": null,
            "_view_module_version": "1.2.0",
            "bar_color": null,
            "_model_module": "@jupyter-widgets/controls"
          }
        },
        "83bf8860478841c1abfeea9d4ff1ecc0": {
          "model_module": "@jupyter-widgets/base",
          "model_name": "LayoutModel",
          "state": {
            "_view_name": "LayoutView",
            "grid_template_rows": null,
            "right": null,
            "justify_content": null,
            "_view_module": "@jupyter-widgets/base",
            "overflow": null,
            "_model_module_version": "1.2.0",
            "_view_count": null,
            "flex_flow": null,
            "width": null,
            "min_width": null,
            "border": null,
            "align_items": null,
            "bottom": null,
            "_model_module": "@jupyter-widgets/base",
            "top": null,
            "grid_column": null,
            "overflow_y": null,
            "overflow_x": null,
            "grid_auto_flow": null,
            "grid_area": null,
            "grid_template_columns": null,
            "flex": null,
            "_model_name": "LayoutModel",
            "justify_items": null,
            "grid_row": null,
            "max_height": null,
            "align_content": null,
            "visibility": null,
            "align_self": null,
            "height": null,
            "min_height": null,
            "padding": null,
            "grid_auto_rows": null,
            "grid_gap": null,
            "max_width": null,
            "order": null,
            "_view_module_version": "1.2.0",
            "grid_template_areas": null,
            "object_position": null,
            "object_fit": null,
            "grid_auto_columns": null,
            "margin": null,
            "display": null,
            "left": null
          }
        },
        "33206ba3d6b84d16984ac9a0359e7d92": {
          "model_module": "@jupyter-widgets/controls",
          "model_name": "DescriptionStyleModel",
          "state": {
            "_view_name": "StyleView",
            "_model_name": "DescriptionStyleModel",
            "description_width": "",
            "_view_module": "@jupyter-widgets/base",
            "_model_module_version": "1.5.0",
            "_view_count": null,
            "_view_module_version": "1.2.0",
            "_model_module": "@jupyter-widgets/controls"
          }
        },
        "2d4e79c76e5444248ee49d569f61c4ae": {
          "model_module": "@jupyter-widgets/base",
          "model_name": "LayoutModel",
          "state": {
            "_view_name": "LayoutView",
            "grid_template_rows": null,
            "right": null,
            "justify_content": null,
            "_view_module": "@jupyter-widgets/base",
            "overflow": null,
            "_model_module_version": "1.2.0",
            "_view_count": null,
            "flex_flow": null,
            "width": null,
            "min_width": null,
            "border": null,
            "align_items": null,
            "bottom": null,
            "_model_module": "@jupyter-widgets/base",
            "top": null,
            "grid_column": null,
            "overflow_y": null,
            "overflow_x": null,
            "grid_auto_flow": null,
            "grid_area": null,
            "grid_template_columns": null,
            "flex": null,
            "_model_name": "LayoutModel",
            "justify_items": null,
            "grid_row": null,
            "max_height": null,
            "align_content": null,
            "visibility": null,
            "align_self": null,
            "height": null,
            "min_height": null,
            "padding": null,
            "grid_auto_rows": null,
            "grid_gap": null,
            "max_width": null,
            "order": null,
            "_view_module_version": "1.2.0",
            "grid_template_areas": null,
            "object_position": null,
            "object_fit": null,
            "grid_auto_columns": null,
            "margin": null,
            "display": null,
            "left": null
          }
        }
      }
    }
  },
  "cells": [
    {
      "cell_type": "code",
      "metadata": {
        "colab": {
          "base_uri": "https://localhost:8080/"
        },
        "id": "52hLiv5iiqg-",
        "outputId": "ccf99bae-e244-48c5-bcca-c2e158656151"
      },
      "source": [
        "!git clone https://github.com/vigneshbabupj/Project_Vision.git"
      ],
      "execution_count": null,
      "outputs": [
        {
          "output_type": "stream",
          "text": [
            "Cloning into 'Project_Vision'...\n",
            "remote: Enumerating objects: 44, done.\u001b[K\n",
            "remote: Counting objects: 100% (44/44), done.\u001b[K\n",
            "remote: Compressing objects: 100% (31/31), done.\u001b[K\n",
            "remote: Total 1921 (delta 25), reused 31 (delta 12), pack-reused 1877\u001b[K\n",
            "Receiving objects: 100% (1921/1921), 1.01 MiB | 446.00 KiB/s, done.\n",
            "Resolving deltas: 100% (1292/1292), done.\n"
          ],
          "name": "stdout"
        }
      ]
    },
    {
      "cell_type": "code",
      "metadata": {
        "colab": {
          "base_uri": "https://localhost:8080/"
        },
        "id": "QDtEGSF0cUcA",
        "outputId": "c27914fd-8c66-497d-dc9b-3277b0dad0f7"
      },
      "source": [
        "!pip install git+https://github.com/longcw/RoIAlign.pytorch -q"
      ],
      "execution_count": null,
      "outputs": [
        {
          "output_type": "stream",
          "text": [
            "  Building wheel for roi-align (setup.py) ... \u001b[?25l\u001b[?25hdone\n"
          ],
          "name": "stdout"
        }
      ]
    },
    {
      "cell_type": "code",
      "metadata": {
        "colab": {
          "base_uri": "https://localhost:8080/"
        },
        "id": "Bs-oKjjAswXr",
        "outputId": "1d730c98-5435-47c2-cba7-5ddca8ada59b"
      },
      "source": [
        "ls"
      ],
      "execution_count": null,
      "outputs": [
        {
          "output_type": "stream",
          "text": [
            "\u001b[0m\u001b[01;34mProject_Vision\u001b[0m/  \u001b[01;34msample_data\u001b[0m/\n"
          ],
          "name": "stdout"
        }
      ]
    },
    {
      "cell_type": "code",
      "metadata": {
        "colab": {
          "base_uri": "https://localhost:8080/"
        },
        "id": "cKgnX1ei62J2",
        "outputId": "be42557b-e4eb-4dff-cd40-045a3ea4bfa0"
      },
      "source": [
        "from google.colab import drive\n",
        "drive.mount('/content/gdrive',force_remount=True)"
      ],
      "execution_count": null,
      "outputs": [
        {
          "output_type": "stream",
          "text": [
            "Mounted at /content/gdrive\n"
          ],
          "name": "stdout"
        }
      ]
    },
    {
      "cell_type": "code",
      "metadata": {
        "id": "fifzpdDxtHJ9"
      },
      "source": [
        "%%capture\n",
        "%cd Project_Vision/\n",
        "!mkdir midas\n",
        "%cd midas\n",
        "!wget https://github.com/intel-isl/MiDaS/releases/download/v2_1/model-f6b98070.pt\n",
        "%cd .."
      ],
      "execution_count": null,
      "outputs": []
    },
    {
      "cell_type": "code",
      "metadata": {
        "id": "U4d4vMwk7Dev",
        "colab": {
          "base_uri": "https://localhost:8080/"
        },
        "outputId": "26179b1a-e789-4575-e53a-fb6d61b17b54"
      },
      "source": [
        "!cp '/content/gdrive/My Drive/EVA/EVA5/15A/planercnn_model/checkpoint.zip' '.'\n",
        "!unzip checkpoint.zip\n",
        "!ls \n",
        "!rm -r checkpoint.zip"
      ],
      "execution_count": null,
      "outputs": [
        {
          "output_type": "stream",
          "text": [
            "Archive:  checkpoint.zip\n",
            "   creating: planercnn_normal_warping_refine/\n",
            "  inflating: planercnn_normal_warping_refine/checkpoint_refine.pth  \n",
            "  inflating: planercnn_normal_warping_refine/checkpoint.pth  \n",
            "anchors\t\tdetect.py   model.py\t\t\t     pytorch_ssim\n",
            "bbox_decoder\tdocuments   options.py\t\t\t     README.md\n",
            "checkpoint.zip\tencoder.py  plane_decoder\t\t     train.py\n",
            "dataset.py\tLICENSE     planercnn_normal_warping_refine\n",
            "depth_decoder\tmidas\t    pytorch_msssim\n"
          ],
          "name": "stdout"
        }
      ]
    },
    {
      "cell_type": "code",
      "metadata": {
        "id": "g30rpbOH7VjF"
      },
      "source": [
        "%%capture\n",
        "%cd Project_Vision/\n",
        "!cp '/content/gdrive/My Drive/EVA/updated_final_data.zip' '.'\n",
        "\n",
        "!unzip updated_final_data.zip\n",
        "!rm -r updated_final_data.zip"
      ],
      "execution_count": null,
      "outputs": []
    },
    {
      "cell_type": "code",
      "metadata": {
        "colab": {
          "base_uri": "https://localhost:8080/"
        },
        "id": "RTGtTYkaEcac",
        "outputId": "78432a6b-7a91-45f5-99f9-9300cc90de00"
      },
      "source": [
        "ls data/customdata/"
      ],
      "execution_count": null,
      "outputs": [
        {
          "output_type": "stream",
          "text": [
            "custom.data   \u001b[0m\u001b[01;34mdepth_images\u001b[0m/  \u001b[01;34mlabels\u001b[0m/                    test.txt\n",
            "custom.names  \u001b[01;34mimages\u001b[0m/        planercnn_data_actual.zip  train.txt\n"
          ],
          "name": "stdout"
        }
      ]
    },
    {
      "cell_type": "code",
      "metadata": {
        "id": "p6ZnLtJk7rqW"
      },
      "source": [
        "%%capture\n",
        "%cd data/customdata/\n",
        "!unzip planercnn_data_actual.zip\n",
        "!rm -r planercnn_data_actual.zip"
      ],
      "execution_count": null,
      "outputs": []
    },
    {
      "cell_type": "code",
      "metadata": {
        "colab": {
          "base_uri": "https://localhost:8080/"
        },
        "id": "PtHRw_rg8yXF",
        "outputId": "31795263-2c43-46ff-b896-0ac5aa2f34f7"
      },
      "source": [
        "ls "
      ],
      "execution_count": null,
      "outputs": [
        {
          "output_type": "stream",
          "text": [
            "\u001b[0m\u001b[01;34mcontent\u001b[0m/     custom.names   \u001b[01;34mimages\u001b[0m/  test.txt\n",
            "custom.data  \u001b[01;34mdepth_images\u001b[0m/  \u001b[01;34mlabels\u001b[0m/  train.txt\n"
          ],
          "name": "stdout"
        }
      ]
    },
    {
      "cell_type": "code",
      "metadata": {
        "colab": {
          "base_uri": "https://localhost:8080/"
        },
        "id": "FvesCKoh8RLd",
        "outputId": "a77bf323-f654-4da7-971d-feff924a4d91"
      },
      "source": [
        "!mv -v 'content/planercnn/test/inference' '.'\n",
        "!cp '/content/gdrive/My Drive/EVA/EVA5/15A/custom.shapes' '.'\n",
        "!cp '/content/gdrive/My Drive/EVA/EVA5/15A/camera.txt' './images'\n",
        "%cd ../../\n",
        "!ls"
      ],
      "execution_count": null,
      "outputs": [
        {
          "output_type": "stream",
          "text": [
            "renamed 'content/planercnn/test/inference' -> './inference'\n",
            "/content/Project_Vision\n",
            "anchors        detect.py   model.py\t\t\t    pytorch_ssim\n",
            "bbox_decoder   documents   options.py\t\t\t    README.md\n",
            "data\t       encoder.py  plane_decoder\t\t    train.py\n",
            "dataset.py     LICENSE\t   planercnn_normal_warping_refine\n",
            "depth_decoder  midas\t   pytorch_msssim\n"
          ],
          "name": "stdout"
        }
      ]
    },
    {
      "cell_type": "markdown",
      "metadata": {
        "id": "lHTwOemdoPuL"
      },
      "source": [
        "#Run Code"
      ]
    },
    {
      "cell_type": "code",
      "metadata": {
        "id": "w40T1g6jRZg5",
        "colab": {
          "base_uri": "https://localhost:8080/"
        },
        "outputId": "48be24b3-c7b7-4398-e0e9-0a70300aebfb"
      },
      "source": [
        "%cd Project_Vision/\n",
        "!sed -i '/-With-A-Puffy-Jacket-Boots-And-A-Belt.jpg/d' data/customdata/train.txt\n",
        "#!sed -i '1,10!d' data/customdata/train.txt \n",
        "#!sed -i '1,10!d' data/customdata/test.txt\n",
        "!git pull -f"
      ],
      "execution_count": null,
      "outputs": [
        {
          "output_type": "stream",
          "text": [
            "[Errno 2] No such file or directory: 'Project_Vision/'\n",
            "/content/Project_Vision\n",
            "remote: Enumerating objects: 5, done.\u001b[K\n",
            "remote: Counting objects: 100% (5/5), done.\u001b[K\n",
            "remote: Compressing objects: 100% (1/1), done.\u001b[K\n",
            "remote: Total 3 (delta 2), reused 3 (delta 2), pack-reused 0\u001b[K\n",
            "Unpacking objects: 100% (3/3), done.\n",
            "From https://github.com/vigneshbabupj/Project_Vision\n",
            "   b176701..73b71d2  main       -> origin/main\n",
            "Updating b176701..73b71d2\n",
            "Fast-forward\n",
            " train.py | 2 \u001b[32m++\u001b[m\n",
            " 1 file changed, 2 insertions(+)\n"
          ],
          "name": "stdout"
        }
      ]
    },
    {
      "cell_type": "code",
      "metadata": {
        "id": "iomh4thFkxyg"
      },
      "source": [
        "from options import *\n",
        "import sys\n",
        "sys.argv = ['']\n",
        "plane_args = plane_parse_args()\n",
        "yolo_args = yolo_parse_args()\n",
        "midas_args = midas_parse_args()\n",
        "\n",
        "yolo_args.batch_size = 1\n",
        "\n",
        "yolo_args.cfg = 'bbox_decoder/cfg/yolov3-custom.cfg'\n",
        "yolo_args.epochs = 10\n",
        "yolo_args.weights = '/content/gdrive/My Drive/EVA/EVA5/yolov3-spp-ultralytics.pt'\n",
        "yolo_args.data = 'data/customdata/custom.data'\n",
        "midas_args.input = 'data/customdata/images'\n",
        "#midas_args.output\n",
        "midas_args.weights = 'midas/model-f6b98070.pt'\n",
        "\n",
        "plane_args.customDataFolder = 'data/customdata/images'\n",
        "plane_args.checkpoint_dir = 'planercnn_normal_warping_refine'\n",
        "plane_args.suffix = 'warping_refine'\n",
        "\n",
        "yolo_args.img_size=[512,512,512] #[640,640,640]\n",
        "#yolo_args.img_size=[256,256,256] #[640,640,640]\n",
        "plane_args.height = 512\n",
        "plane_args.width = 512\n",
        "plane_args.test_dir = 'test'"
      ],
      "execution_count": null,
      "outputs": []
    },
    {
      "cell_type": "code",
      "metadata": {
        "id": "8lc8zdtDP4VL",
        "colab": {
          "base_uri": "https://localhost:8080/",
          "height": 763,
          "referenced_widgets": [
            "568526b942c24ddb8ad2972c578a8b24",
            "f8bebcad457a4d5caa6c73193ff63411",
            "e7377d5fe8634e5aa81ebefedd0d79f1",
            "92a44cf3e14e4870bb783b58015e154a",
            "89ea659dd2554e439008f0a8051b09cd",
            "83bf8860478841c1abfeea9d4ff1ecc0",
            "33206ba3d6b84d16984ac9a0359e7d92",
            "2d4e79c76e5444248ee49d569f61c4ae"
          ]
        },
        "outputId": "f78889a9-5cde-4cc1-9d38-2fccc416a89e"
      },
      "source": [
        "%matplotlib inline\n",
        "from train import train\n",
        "loss = train(plane_args,yolo_args,midas_args,add_plane_loss=1,add_yolo_loss=1,add_midas_loss=1,resume_train=True,model_path='/content/gdrive/My Drive/EVA/EVA5/capstone/')"
      ],
      "execution_count": null,
      "outputs": [
        {
          "output_type": "stream",
          "text": [
            "Using CUDA device0 _CudaDeviceProperties(name='Tesla P100-PCIE-16GB', total_memory=16280MB)\n",
            "\n",
            "use_pretrained True\n",
            "path midas/model-f6b98070.pt\n"
          ],
          "name": "stdout"
        },
        {
          "output_type": "stream",
          "text": [
            "Downloading: \"https://github.com/facebookresearch/WSL-Images/archive/master.zip\" to /root/.cache/torch/hub/master.zip\n",
            "Downloading: \"https://download.pytorch.org/models/ig_resnext101_32x8-c38310e5.pth\" to /root/.cache/torch/hub/checkpoints/ig_resnext101_32x8-c38310e5.pth\n"
          ],
          "name": "stderr"
        },
        {
          "output_type": "display_data",
          "data": {
            "application/vnd.jupyter.widget-view+json": {
              "model_id": "568526b942c24ddb8ad2972c578a8b24",
              "version_minor": 0,
              "version_major": 2
            },
            "text/plain": [
              "HBox(children=(FloatProgress(value=0.0, max=356056638.0), HTML(value='')))"
            ]
          },
          "metadata": {
            "tags": []
          }
        },
        {
          "output_type": "stream",
          "text": [
            "\n",
            "Model Summary: 1056 layers, 2.37595e+08 parameters, 2.37484e+08 gradients\n"
          ],
          "name": "stdout"
        },
        {
          "output_type": "stream",
          "text": [
            "Caching labels (3160 found, 4 missing, 38 empty, 0 duplicate, for 3202 images): 100%|██████████| 3202/3202 [00:01<00:00, 2284.76it/s]\n",
            "Caching images (1.8GB): 100%|██████████| 3202/3202 [00:23<00:00, 135.48it/s]\n",
            "Caching labels (311 found, 0 missing, 7 empty, 0 duplicate, for 318 images): 100%|██████████| 318/318 [00:00<00:00, 1028.94it/s]\n",
            "Caching images (0.1GB): 100%|██████████| 318/318 [00:03<00:00, 101.51it/s]\n",
            "0it [00:00, ?it/s]"
          ],
          "name": "stderr"
        },
        {
          "output_type": "stream",
          "text": [
            "Image sizes 512 - 512 train, 512 test\n",
            "Using 0 dataloader workers\n",
            "Starting training for 10 epochs...\n",
            "\n",
            "     Epoch   Dp_loss  bbx_loss  pln_loss  All_loss  img_size\n"
          ],
          "name": "stdout"
        },
        {
          "output_type": "stream",
          "text": [
            "     17/26      5.23       9.7      1.35      16.3       512: : 3202it [46:07,  1.16it/s]\n",
            "0it [00:00, ?it/s]"
          ],
          "name": "stderr"
        },
        {
          "output_type": "stream",
          "text": [
            "\n",
            "     Epoch   Dp_loss  bbx_loss  pln_loss  All_loss  img_size\n"
          ],
          "name": "stdout"
        },
        {
          "output_type": "stream",
          "text": [
            "     18/26      5.36      4.75      1.19      11.3       512: : 3202it [46:00,  1.16it/s]\n",
            "0it [00:00, ?it/s]"
          ],
          "name": "stderr"
        },
        {
          "output_type": "stream",
          "text": [
            "\n",
            "     Epoch   Dp_loss  bbx_loss  pln_loss  All_loss  img_size\n"
          ],
          "name": "stdout"
        },
        {
          "output_type": "stream",
          "text": [
            "     19/26      5.09      4.49      1.14      10.7       512: : 3202it [46:07,  1.16it/s]\n",
            "0it [00:00, ?it/s]"
          ],
          "name": "stderr"
        },
        {
          "output_type": "stream",
          "text": [
            "\n",
            "     Epoch   Dp_loss  bbx_loss  pln_loss  All_loss  img_size\n"
          ],
          "name": "stdout"
        },
        {
          "output_type": "stream",
          "text": [
            "     20/26      5.74       7.2      1.15      14.1       512: : 3202it [46:02,  1.16it/s]\n",
            "0it [00:00, ?it/s]"
          ],
          "name": "stderr"
        },
        {
          "output_type": "stream",
          "text": [
            "\n",
            "     Epoch   Dp_loss  bbx_loss  pln_loss  All_loss  img_size\n"
          ],
          "name": "stdout"
        },
        {
          "output_type": "stream",
          "text": [
            "     21/26      5.29      3.53      1.12      9.94       512: : 3202it [46:08,  1.16it/s]\n",
            "0it [00:00, ?it/s]"
          ],
          "name": "stderr"
        },
        {
          "output_type": "stream",
          "text": [
            "\n",
            "     Epoch   Dp_loss  bbx_loss  pln_loss  All_loss  img_size\n"
          ],
          "name": "stdout"
        },
        {
          "output_type": "stream",
          "text": [
            "     22/26       5.4      3.08      1.13      9.61       512: : 3202it [46:04,  1.16it/s]\n",
            "0it [00:00, ?it/s]"
          ],
          "name": "stderr"
        },
        {
          "output_type": "stream",
          "text": [
            "\n",
            "     Epoch   Dp_loss  bbx_loss  pln_loss  All_loss  img_size\n"
          ],
          "name": "stdout"
        },
        {
          "output_type": "stream",
          "text": [
            "     23/26      5.55      6.24      1.11      12.9       512: : 3202it [46:06,  1.16it/s]\n",
            "0it [00:00, ?it/s]"
          ],
          "name": "stderr"
        },
        {
          "output_type": "stream",
          "text": [
            "\n",
            "     Epoch   Dp_loss  bbx_loss  pln_loss  All_loss  img_size\n"
          ],
          "name": "stdout"
        },
        {
          "output_type": "stream",
          "text": [
            "     24/26      5.74      5.04      1.04      11.8       512: : 3202it [46:00,  1.16it/s]\n"
          ],
          "name": "stderr"
        },
        {
          "output_type": "stream",
          "text": [
            "\n",
            "     Epoch   Dp_loss  bbx_loss  pln_loss  All_loss  img_size\n"
          ],
          "name": "stdout"
        },
        {
          "output_type": "stream",
          "text": [
            "     25/26      4.84      4.02      1.12      9.98       512: : 2244it [32:36,  1.18it/s]"
          ],
          "name": "stderr"
        }
      ]
    },
    {
      "cell_type": "code",
      "metadata": {
        "id": "uddmVqa29tGN"
      },
      "source": [
        "%debug"
      ],
      "execution_count": null,
      "outputs": []
    },
    {
      "cell_type": "code",
      "metadata": {
        "id": "vqvNJDMrqdCj"
      },
      "source": [
        "#from torchsummary import summary\n",
        "\n",
        "#summary(model2, (3, 256, 256))"
      ],
      "execution_count": null,
      "outputs": []
    }
  ]
}