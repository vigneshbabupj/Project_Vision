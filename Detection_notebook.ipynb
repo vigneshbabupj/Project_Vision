{
  "nbformat": 4,
  "nbformat_minor": 0,
  "metadata": {
    "accelerator": "GPU",
    "colab": {
      "name": "Detection_notebook.ipynb",
      "provenance": [],
      "collapsed_sections": [],
      "toc_visible": true
    },
    "kernelspec": {
      "display_name": "Python 3",
      "name": "python3"
    }
  },
  "cells": [
    {
      "cell_type": "code",
      "metadata": {
        "colab": {
          "base_uri": "https://localhost:8080/"
        },
        "id": "52hLiv5iiqg-",
        "outputId": "bbf69bda-e199-4429-8891-8392a8768a7f"
      },
      "source": [
        "!git clone https://github.com/vigneshbabupj/Project_Vision.git"
      ],
      "execution_count": 1,
      "outputs": [
        {
          "output_type": "stream",
          "text": [
            "Cloning into 'Project_Vision'...\n",
            "remote: Enumerating objects: 79, done.\u001b[K\n",
            "remote: Counting objects: 100% (79/79), done.\u001b[K\n",
            "remote: Compressing objects: 100% (60/60), done.\u001b[K\n",
            "remote: Total 1956 (delta 41), reused 54 (delta 18), pack-reused 1877\u001b[K\n",
            "Receiving objects: 100% (1956/1956), 1.48 MiB | 1.66 MiB/s, done.\n",
            "Resolving deltas: 100% (1308/1308), done.\n"
          ],
          "name": "stdout"
        }
      ]
    },
    {
      "cell_type": "code",
      "metadata": {
        "colab": {
          "base_uri": "https://localhost:8080/"
        },
        "id": "QDtEGSF0cUcA",
        "outputId": "790d5932-422f-4dd8-cf42-9c6ea8f58a6f"
      },
      "source": [
        "!pip install git+https://github.com/longcw/RoIAlign.pytorch -q"
      ],
      "execution_count": 2,
      "outputs": [
        {
          "output_type": "stream",
          "text": [
            "  Building wheel for roi-align (setup.py) ... \u001b[?25l\u001b[?25hdone\n"
          ],
          "name": "stdout"
        }
      ]
    },
    {
      "cell_type": "code",
      "metadata": {
        "colab": {
          "base_uri": "https://localhost:8080/"
        },
        "id": "Bs-oKjjAswXr",
        "outputId": "1d730c98-5435-47c2-cba7-5ddca8ada59b"
      },
      "source": [
        "ls"
      ],
      "execution_count": null,
      "outputs": [
        {
          "output_type": "stream",
          "text": [
            "\u001b[0m\u001b[01;34mProject_Vision\u001b[0m/  \u001b[01;34msample_data\u001b[0m/\n"
          ],
          "name": "stdout"
        }
      ]
    },
    {
      "cell_type": "code",
      "metadata": {
        "colab": {
          "base_uri": "https://localhost:8080/"
        },
        "id": "cKgnX1ei62J2",
        "outputId": "c26d6e38-c9d6-43f1-d7e3-82efe0367377"
      },
      "source": [
        "from google.colab import drive\n",
        "drive.mount('/content/gdrive',force_remount=True)"
      ],
      "execution_count": 3,
      "outputs": [
        {
          "output_type": "stream",
          "text": [
            "Mounted at /content/gdrive\n"
          ],
          "name": "stdout"
        }
      ]
    },
    {
      "cell_type": "code",
      "metadata": {
        "id": "fifzpdDxtHJ9"
      },
      "source": [
        "%%capture\n",
        "%cd Project_Vision/\n",
        "!mkdir midas\n",
        "%cd midas\n",
        "!wget https://github.com/intel-isl/MiDaS/releases/download/v2_1/model-f6b98070.pt\n",
        "%cd .."
      ],
      "execution_count": 4,
      "outputs": []
    },
    {
      "cell_type": "code",
      "metadata": {
        "id": "g30rpbOH7VjF"
      },
      "source": [
        "%%capture\n",
        "%cd Project_Vision/\n",
        "!cp '/content/gdrive/My Drive/EVA/updated_final_data.zip' '.'\n",
        "\n",
        "!unzip updated_final_data.zip\n",
        "!rm -r updated_final_data.zip"
      ],
      "execution_count": 6,
      "outputs": []
    },
    {
      "cell_type": "code",
      "metadata": {
        "colab": {
          "base_uri": "https://localhost:8080/"
        },
        "id": "RTGtTYkaEcac",
        "outputId": "fcf9a139-bccb-41da-cff7-07ef5266a15f"
      },
      "source": [
        "ls data/customdata/"
      ],
      "execution_count": 7,
      "outputs": [
        {
          "output_type": "stream",
          "text": [
            "custom.data   \u001b[0m\u001b[01;34mdepth_images\u001b[0m/  \u001b[01;34mlabels\u001b[0m/                    test.txt\n",
            "custom.names  \u001b[01;34mimages\u001b[0m/        planercnn_data_actual.zip  train.txt\n"
          ],
          "name": "stdout"
        }
      ]
    },
    {
      "cell_type": "code",
      "metadata": {
        "id": "p6ZnLtJk7rqW"
      },
      "source": [
        "%%capture\n",
        "%cd data/customdata/\n",
        "!unzip planercnn_data_actual.zip\n",
        "!rm -r planercnn_data_actual.zip"
      ],
      "execution_count": 8,
      "outputs": []
    },
    {
      "cell_type": "code",
      "metadata": {
        "colab": {
          "base_uri": "https://localhost:8080/"
        },
        "id": "PtHRw_rg8yXF",
        "outputId": "67d07081-8e28-4e32-bad3-06a9e3b3aca3"
      },
      "source": [
        "ls "
      ],
      "execution_count": 9,
      "outputs": [
        {
          "output_type": "stream",
          "text": [
            "\u001b[0m\u001b[01;34mcontent\u001b[0m/     custom.names   \u001b[01;34mimages\u001b[0m/  test.txt\n",
            "custom.data  \u001b[01;34mdepth_images\u001b[0m/  \u001b[01;34mlabels\u001b[0m/  train.txt\n"
          ],
          "name": "stdout"
        }
      ]
    },
    {
      "cell_type": "code",
      "metadata": {
        "colab": {
          "base_uri": "https://localhost:8080/"
        },
        "id": "FvesCKoh8RLd",
        "outputId": "1ddb268d-e7b0-46b6-c4bc-f4d765a47fa3"
      },
      "source": [
        "!mv -v 'content/planercnn/test/inference' '.'\n",
        "!cp '/content/gdrive/My Drive/EVA/EVA5/15A/custom.shapes' '.'\n",
        "!cp '/content/gdrive/My Drive/EVA/EVA5/15A/camera.txt' './images'\n",
        "%cd ../../\n",
        "!ls"
      ],
      "execution_count": 10,
      "outputs": [
        {
          "output_type": "stream",
          "text": [
            "renamed 'content/planercnn/test/inference' -> './inference'\n",
            "/content/Project_Vision\n",
            "anchors        documents      Project_vision_Training_Part1.ipynb\n",
            "bbox_decoder   encoder.py     pytorch_msssim\n",
            "data\t       LICENSE\t      pytorch_ssim\n",
            "dataset.py     midas\t      README.md\n",
            "depth_decoder  model.py       Training_part2.ipynb\n",
            "detection.py   options.py     train.py\n",
            "detect.py      plane_decoder\n"
          ],
          "name": "stdout"
        }
      ]
    },
    {
      "cell_type": "markdown",
      "metadata": {
        "id": "lHTwOemdoPuL"
      },
      "source": [
        "#Run Code"
      ]
    },
    {
      "cell_type": "code",
      "metadata": {
        "id": "w40T1g6jRZg5",
        "colab": {
          "base_uri": "https://localhost:8080/"
        },
        "outputId": "4f6adf51-d82e-4837-84f1-494cc9c12d9d"
      },
      "source": [
        "%cd Project_Vision/\n",
        "!sed -i '/-With-A-Puffy-Jacket-Boots-And-A-Belt.jpg/d' data/customdata/train.txt\n",
        "#!sed -i '1,10!d' data/customdata/train.txt \n",
        "#!sed -i '1,10!d' data/customdata/test.txt\n",
        "!git pull -f"
      ],
      "execution_count": 1,
      "outputs": [
        {
          "output_type": "stream",
          "text": [
            "/content/Project_Vision\n",
            "remote: Enumerating objects: 7, done.\u001b[K\n",
            "remote: Counting objects: 100% (7/7), done.\u001b[K\n",
            "remote: Compressing objects: 100% (1/1), done.\u001b[K\n",
            "remote: Total 4 (delta 3), reused 4 (delta 3), pack-reused 0\u001b[K\n",
            "Unpacking objects: 100% (4/4), done.\n",
            "From https://github.com/vigneshbabupj/Project_Vision\n",
            "   10b87dc..2bea6f9  main       -> origin/main\n",
            "Updating 10b87dc..2bea6f9\n",
            "Fast-forward\n",
            " depth_decoder/utils.py | 2 \u001b[32m+\u001b[m\u001b[31m-\u001b[m\n",
            " 1 file changed, 1 insertion(+), 1 deletion(-)\n"
          ],
          "name": "stdout"
        }
      ]
    },
    {
      "cell_type": "code",
      "metadata": {
        "colab": {
          "base_uri": "https://localhost:8080/"
        },
        "id": "GDYNCgikp7h_",
        "outputId": "f8b013d7-0ed6-49b5-a914-45a8adeebc62"
      },
      "source": [
        "!python detection.py"
      ],
      "execution_count": 2,
      "outputs": [
        {
          "output_type": "stream",
          "text": [
            "Using CUDA device0 _CudaDeviceProperties(name='Tesla P100-PCIE-16GB', total_memory=16280MB)\n",
            "\n",
            "use_pretrained False\n",
            "path None\n",
            "Using cache found in /root/.cache/torch/hub/facebookresearch_WSL-Images_master\n",
            "Model Summary: 1056 layers, 2.37595e+08 parameters, 2.37484e+08 gradients\n",
            "image 1/3590 data/customdata/images/01-prince-boots - Copy.jpg: 512x448 1 hardhats, 2 vests, Done. (0.088s)\n",
            "image 2/3590 data/customdata/images/026f0ffddc.jpg: 384x512 1 vests, Done. (0.074s)\n",
            "image 3/3590 data/customdata/images/032620_LS_covid-masks_inline-680.jpg: 320x512 1 hardhats, 1 vests, Done. (0.066s)\n",
            "image 4/3590 data/customdata/images/046acbc8e1.jpg: 384x512 Done. (0.073s)\n",
            "image 5/3590 data/customdata/images/050bdc8229cf18030e2d8a266dd334af84-23-chelsea-boots.rsquare.w1200 - Copy.jpg: 512x512 2 vests, Done. (0.089s)\n",
            "image 6/3590 data/customdata/images/051fa0f9fd.jpg: 512x320 2 hardhats, 4 vests, Done. (0.067s)\n",
            "image 7/3590 data/customdata/images/05a207d8-6378-43a2-9d1e-431ca7a944e4-unnamed - Copy.jpg: 512x384 1 hardhats, 5 vests, Done. (0.074s)\n",
            "image 8/3590 data/customdata/images/088b63b347a4e40f0777df612ebe490a.jpg: 512x384 3 vests, Done. (0.074s)\n",
            "image 9/3590 data/customdata/images/0983a70ffe.jpg: 320x512 2 hardhats, 1 vests, Done. (0.066s)\n",
            "image 10/3590 data/customdata/images/0b59d3bd16.jpg: 384x512 1 hardhats, 1 vests, Done. (0.074s)\n",
            "image 11/3590 data/customdata/images/1-embed-activewear.jpg: 512x384 2 hardhats, 4 vests, Done. (0.074s)\n",
            "image 12/3590 data/customdata/images/1.jpg: 512x320 2 hardhats, 1 vests, Done. (0.067s)\n",
            "image 13/3590 data/customdata/images/10.jpg: 384x512 2 hardhats, 1 vests, Done. (0.073s)\n",
            "image 14/3590 data/customdata/images/101.jpg: 512x384 5 vests, Done. (0.074s)\n",
            "image 15/3590 data/customdata/images/102.jpg: 512x256 2 vests, Done. (0.063s)\n",
            "image 16/3590 data/customdata/images/103.jpg: 512x384 1 hardhats, 7 vests, Done. (0.074s)\n",
            "image 17/3590 data/customdata/images/104.jpg: 512x384 3 hardhats, 9 vests, Done. (0.074s)\n",
            "image 18/3590 data/customdata/images/105.jpg: 512x320 3 vests, Done. (0.067s)\n",
            "image 19/3590 data/customdata/images/106.jpg: 512x320 2 hardhats, Done. (0.067s)\n",
            "image 20/3590 data/customdata/images/107.jpg: 512x256 3 vests, Done. (0.064s)\n",
            "image 21/3590 data/customdata/images/10e3431da9.jpg: 512x384 1 hardhats, 1 vests, Done. (0.074s)\n",
            "image 22/3590 data/customdata/images/11.jpg: 512x384 5 vests, Done. (0.073s)\n",
            "image 23/3590 data/customdata/images/110.jpg: 512x384 4 hardhats, 2 vests, Done. (0.074s)\n",
            "image 24/3590 data/customdata/images/1110f7133f.jpg: 320x512 1 hardhats, 1 vests, Done. (0.066s)\n",
            "image 25/3590 data/customdata/images/1119a27d1c.jpg: 512x384 1 hardhats, 3 vests, Done. (0.074s)\n",
            "image 26/3590 data/customdata/images/1138b4f228.jpg: 448x512 Done. (0.077s)\n",
            "image 27/3590 data/customdata/images/114.jpg: 512x512 1 hardhats, 3 vests, Done. (0.089s)\n",
            "image 28/3590 data/customdata/images/115.jpg: 512x384 2 vests, Done. (0.074s)\n",
            "image 29/3590 data/customdata/images/115fea1f20.jpg: 448x512 3 hardhats, 1 vests, Done. (0.077s)\n",
            "image 30/3590 data/customdata/images/117.jpg: 512x384 Done. (0.074s)\n",
            "image 31/3590 data/customdata/images/118.jpg: 512x384 1 vests, Done. (0.074s)\n",
            "image 32/3590 data/customdata/images/119.jpg: 512x448 2 hardhats, 3 vests, Done. (0.078s)\n",
            "image 33/3590 data/customdata/images/12.jpg: 512x384 3 vests, Done. (0.074s)\n",
            "image 34/3590 data/customdata/images/120.jpg: 320x512 1 hardhats, Done. (0.066s)\n",
            "image 35/3590 data/customdata/images/12072638_10153880495409206_7613588994409949885_n.jpg: 384x512 4 hardhats, 1 vests, Done. (0.073s)\n",
            "image 36/3590 data/customdata/images/122.jpg: 320x512 Done. (0.066s)\n",
            "image 37/3590 data/customdata/images/123.jpg: 320x512 1 hardhats, 2 vests, Done. (0.066s)\n",
            "image 38/3590 data/customdata/images/125.jpg: 320x512 2 vests, Done. (0.066s)\n",
            "image 39/3590 data/customdata/images/12532006-3x4-xlarge.jpg: 512x384 1 hardhats, 4 vests, Done. (0.074s)\n",
            "image 40/3590 data/customdata/images/126.jpg: 256x512 2 vests, Done. (0.062s)\n",
            "image 41/3590 data/customdata/images/127.jpg: 384x512 1 vests, Done. (0.073s)\n",
            "image 42/3590 data/customdata/images/128.jpg: 320x512 1 hardhats, 2 vests, Done. (0.066s)\n",
            "image 43/3590 data/customdata/images/129.jpg: 384x512 4 vests, Done. (0.073s)\n",
            "image 44/3590 data/customdata/images/13.jpg: 512x384 4 hardhats, 7 vests, Done. (0.074s)\n",
            "image 45/3590 data/customdata/images/131.jpg: 512x384 1 vests, Done. (0.073s)\n",
            "image 46/3590 data/customdata/images/14.jpg: 512x320 1 hardhats, 1 vests, Done. (0.067s)\n",
            "image 47/3590 data/customdata/images/148757020-female-engineer-wear-face-mask-with-safety-vest-and-yellow-helmet-operating-control-cnc-machinery-at.jpg: 384x512 2 hardhats, 1 vests, Done. (0.073s)\n",
            "image 48/3590 data/customdata/images/148789689-group-people-worker-is-wearing-protection-mask-face-and-safety-helmet-and-wearing-suit-safety-dress-.jpg: 384x512 3 hardhats, 8 vests, Done. (0.073s)\n",
            "image 49/3590 data/customdata/images/15.jpg: 512x384 1 hardhats, 1 vests, Done. (0.074s)\n",
            "image 50/3590 data/customdata/images/150px-Denim_jacket.jpg: 512x384 1 hardhats, 3 vests, Done. (0.073s)\n",
            "image 51/3590 data/customdata/images/157022696.jpg: 384x512 3 hardhats, 1 vests, Done. (0.073s)\n",
            "image 52/3590 data/customdata/images/16.jpg: 512x320 1 hardhats, 2 vests, Done. (0.067s)\n",
            "image 53/3590 data/customdata/images/17.jpg: 512x256 3 vests, Done. (0.063s)\n",
            "image 54/3590 data/customdata/images/171324768f.jpg: 384x512 2 hardhats, 4 vests, Done. (0.073s)\n",
            "image 55/3590 data/customdata/images/18.jpg: 384x512 2 hardhats, 3 vests, Done. (0.073s)\n",
            "image 56/3590 data/customdata/images/182deb6b92.jpg: 512x384 1 hardhats, 2 vests, Done. (0.073s)\n",
            "image 57/3590 data/customdata/images/19.jpg: 320x512 4 vests, Done. (0.066s)\n",
            "image 58/3590 data/customdata/images/19306824-business-people-in-office-wearing-hard-hat.jpg: 384x512 2 hardhats, 1 vests, Done. (0.074s)\n",
            "image 59/3590 data/customdata/images/193e7fcbd7.jpg: 512x384 1 hardhats, 1 vests, Done. (0.074s)\n",
            "image 60/3590 data/customdata/images/19bee6efc1.jpg: 320x512 1 vests, Done. (0.066s)\n",
            "image 61/3590 data/customdata/images/1_IT_1599021257624 - Copy.jpeg: 512x384 1 vests, Done. (0.074s)\n",
            "image 62/3590 data/customdata/images/1ca8a4bb9a.jpg: 320x512 1 vests, Done. (0.066s)\n",
            "image 63/3590 data/customdata/images/1da89aacd2.jpg: 320x512 Done. (0.067s)\n",
            "image 64/3590 data/customdata/images/1f839e7d39.jpg: 320x512 2 hardhats, 1 vests, Done. (0.067s)\n",
            "image 65/3590 data/customdata/images/2.jpg: 320x512 2 hardhats, 1 vests, Done. (0.066s)\n",
            "image 66/3590 data/customdata/images/20.jpg: 384x512 2 hardhats, 2 vests, Done. (0.074s)\n",
            "image 67/3590 data/customdata/images/2020-05-13T134428Z_1742823937_RC2PNG9LVSD8_RTRMADP_3_HEALTH-CORONAVIRUS-EGYPT-NEW-CAPITALJPG.jpg: 384x512 3 hardhats, 2 vests, Done. (0.074s)\n",
            "image 68/3590 data/customdata/images/21.jpg: 512x384 1 hardhats, 2 vests, Done. (0.074s)\n",
            "image 69/3590 data/customdata/images/22.jpg: 512x384 2 hardhats, 6 vests, Done. (0.073s)\n",
            "image 70/3590 data/customdata/images/220b5bc220.jpg: 384x512 1 hardhats, 2 vests, Done. (0.074s)\n",
            "image 71/3590 data/customdata/images/220px-69_Fisk_IRT_work_vests_jeh.jpg: 448x512 2 hardhats, 3 vests, Done. (0.077s)\n",
            "image 72/3590 data/customdata/images/2275474b36.jpg: 384x512 1 hardhats, Done. (0.074s)\n",
            "image 73/3590 data/customdata/images/23.jpg: 448x512 3 hardhats, 2 vests, Done. (0.077s)\n",
            "image 74/3590 data/customdata/images/24.jpg: 512x384 1 hardhats, 2 vests, Done. (0.074s)\n",
            "image 75/3590 data/customdata/images/25.jpg: 512x320 1 hardhats, 1 vests, Done. (0.067s)\n",
            "image 76/3590 data/customdata/images/26076994-0-image-a-4_1584458736313 - Copy.jpg: 320x512 2 vests, Done. (0.066s)\n",
            "image 77/3590 data/customdata/images/27.jpg: 512x384 6 hardhats, 1 vests, Done. (0.074s)\n",
            "image 78/3590 data/customdata/images/271671372b.jpg: 384x512 2 hardhats, 2 vests, Done. (0.073s)\n",
            "image 79/3590 data/customdata/images/2743e5f3396aa8c6a7e4488fce8ef7bc.jpg: 384x512 3 hardhats, Done. (0.074s)\n",
            "image 80/3590 data/customdata/images/27581351-painter-worker-wearing-safety-mask-or-safety-work-on-job-painting-of-building-house-or-apartment-wal.jpg: 384x512 1 hardhats, 1 vests, Done. (0.073s)\n",
            "image 81/3590 data/customdata/images/27bb806c8c.jpg: 320x512 2 hardhats, 3 vests, Done. (0.066s)\n",
            "image 82/3590 data/customdata/images/27c1da4205.jpg: 384x512 1 hardhats, 1 vests, Done. (0.074s)\n",
            "image 83/3590 data/customdata/images/29.jpg: 512x384 5 hardhats, 9 vests, Done. (0.074s)\n",
            "image 84/3590 data/customdata/images/291cf97f90.jpg: 320x512 1 vests, Done. (0.066s)\n",
            "image 85/3590 data/customdata/images/2Q__ (1).jpg: 512x384 1 hardhats, 3 vests, Done. (0.074s)\n",
            "image 86/3590 data/customdata/images/2Q__ (2).jpg: 384x512 1 hardhats, 2 vests, Done. (0.073s)\n",
            "image 87/3590 data/customdata/images/2Q__ (3).jpg: 384x512 1 hardhats, 1 vests, Done. (0.073s)\n",
            "image 88/3590 data/customdata/images/2Q__ (4).jpg: 512x512 Done. (0.089s)\n",
            "image 89/3590 data/customdata/images/2Q__ (5).jpg: 384x512 1 hardhats, 1 vests, Done. (0.074s)\n",
            "image 90/3590 data/customdata/images/2Q__ (6).jpg: 384x512 1 hardhats, 1 vests, Done. (0.073s)\n",
            "image 91/3590 data/customdata/images/2Q__.jpg: 512x384 1 hardhats, 1 vests, Done. (0.074s)\n",
            "image 92/3590 data/customdata/images/2ac971265e.jpg: 512x384 1 hardhats, 4 vests, Done. (0.073s)\n",
            "image 93/3590 data/customdata/images/3.jpg: 384x512 1 hardhats, 1 vests, Done. (0.073s)\n",
            "image 94/3590 data/customdata/images/30.jpg: 512x448 6 hardhats, 10 vests, Done. (0.078s)\n",
            "image 95/3590 data/customdata/images/305cdc5e56.jpg: 512x320 2 hardhats, 2 vests, Done. (0.067s)\n",
            "image 96/3590 data/customdata/images/30BLACKBLOCS-shoes-bw-superJumbo - Copy.jpg: 384x512 2 vests, Done. (0.074s)\n",
            "image 97/3590 data/customdata/images/31.jpg: 512x384 2 hardhats, 2 vests, Done. (0.074s)\n",
            "image 98/3590 data/customdata/images/32.jpg: 512x384 1 hardhats, 3 vests, Done. (0.074s)\n",
            "image 99/3590 data/customdata/images/3394f978f6.jpg: 512x448 3 hardhats, Done. (0.078s)\n",
            "image 100/3590 data/customdata/images/34.jpg: 512x320 6 vests, Done. (0.067s)\n",
            "image 101/3590 data/customdata/images/34074758-0-image-a-2_1602027887723 - Copy.jpg: 512x320 2 vests, Done. (0.067s)\n",
            "image 102/3590 data/customdata/images/348075e2cf.jpg: 512x384 1 hardhats, 1 vests, Done. (0.074s)\n",
            "image 103/3590 data/customdata/images/35.jpg: 512x384 1 hardhats, 4 vests, Done. (0.074s)\n",
            "image 104/3590 data/customdata/images/35ad2cfaac.jpg: 384x512 2 hardhats, 2 vests, Done. (0.075s)\n",
            "image 105/3590 data/customdata/images/360_F_370353734_9OeLClhDguhP8nNt72OTlIWJf9fRjL2i.jpg: 384x512 2 hardhats, 4 vests, Done. (0.073s)\n",
            "image 106/3590 data/customdata/images/36b05a3bea.jpg: 320x512 1 vests, Done. (0.066s)\n",
            "image 107/3590 data/customdata/images/36c731298a.jpg: 512x384 1 hardhats, 2 vests, Done. (0.073s)\n",
            "image 108/3590 data/customdata/images/37.jpg: 512x384 Done. (0.073s)\n",
            "image 109/3590 data/customdata/images/3717d6b543.jpg: 384x512 1 hardhats, 1 vests, Done. (0.073s)\n",
            "image 110/3590 data/customdata/images/373031185.jpg: 384x512 3 hardhats, 5 vests, Done. (0.073s)\n",
            "image 111/3590 data/customdata/images/386981234e.jpg: 256x512 1 hardhats, 2 vests, Done. (0.063s)\n",
            "image 112/3590 data/customdata/images/39.jpg: 512x384 2 hardhats, 4 vests, Done. (0.074s)\n",
            "image 113/3590 data/customdata/images/3a896f7dcc.jpg: 384x512 2 hardhats, 1 vests, Done. (0.074s)\n",
            "image 114/3590 data/customdata/images/4.jpg: 512x384 1 vests, Done. (0.074s)\n",
            "image 115/3590 data/customdata/images/40.jpg: 512x448 1 hardhats, 1 vests, Done. (0.078s)\n",
            "image 116/3590 data/customdata/images/40382231b4.jpg: 256x512 3 hardhats, 1 vests, Done. (0.063s)\n",
            "image 117/3590 data/customdata/images/41.jpg: 512x384 2 hardhats, 4 vests, Done. (0.073s)\n",
            "image 118/3590 data/customdata/images/42.jpg: 384x512 1 hardhats, 2 vests, Done. (0.073s)\n",
            "image 119/3590 data/customdata/images/44.jpg: 512x320 1 hardhats, 1 vests, Done. (0.067s)\n",
            "image 120/3590 data/customdata/images/444c0073f64827fcb56ecb21c2324956 - Copy.jpg: 512x384 2 hardhats, 8 vests, Done. (0.074s)\n",
            "image 121/3590 data/customdata/images/45.jpg: 512x320 Done. (0.067s)\n",
            "image 122/3590 data/customdata/images/47.jpg: Traceback (most recent call last):\n",
            "  File \"detection.py\", line 206, in <module>\n",
            "    detection()\n",
            "  File \"detection.py\", line 102, in detection\n",
            "    plane_out,yolo_out,midas_out = model.forward(yolo_inp,midas_inp,plane_inp)\n",
            "  File \"/content/Project_Vision/model.py\", line 65, in forward\n",
            "    layer_3 = self.encoder.layer3(layer_2)\n",
            "  File \"/usr/local/lib/python3.6/dist-packages/torch/nn/modules/module.py\", line 727, in _call_impl\n",
            "    result = self.forward(*input, **kwargs)\n",
            "  File \"/usr/local/lib/python3.6/dist-packages/torch/nn/modules/container.py\", line 117, in forward\n",
            "    input = module(input)\n",
            "  File \"/usr/local/lib/python3.6/dist-packages/torch/nn/modules/module.py\", line 727, in _call_impl\n",
            "    result = self.forward(*input, **kwargs)\n",
            "  File \"/usr/local/lib/python3.6/dist-packages/torchvision/models/resnet.py\", line 108, in forward\n",
            "    out = self.conv2(out)\n",
            "  File \"/usr/local/lib/python3.6/dist-packages/torch/nn/modules/module.py\", line 727, in _call_impl\n",
            "    result = self.forward(*input, **kwargs)\n",
            "  File \"/usr/local/lib/python3.6/dist-packages/torch/nn/modules/conv.py\", line 423, in forward\n",
            "    return self._conv_forward(input, self.weight)\n",
            "  File \"/usr/local/lib/python3.6/dist-packages/torch/nn/modules/conv.py\", line 420, in _conv_forward\n",
            "    self.padding, self.dilation, self.groups)\n",
            "KeyboardInterrupt\n"
          ],
          "name": "stdout"
        }
      ]
    }
  ]
}